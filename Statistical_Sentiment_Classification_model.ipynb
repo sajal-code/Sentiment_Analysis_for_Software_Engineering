{
  "nbformat": 4,
  "nbformat_minor": 0,
  "metadata": {
    "colab": {
      "name": "Statistical_Sentiment_Classification_model.ipynb",
      "provenance": [],
      "authorship_tag": "ABX9TyNGiOAn/mFSubQatPJYPZqS",
      "include_colab_link": true
    },
    "kernelspec": {
      "name": "python3",
      "display_name": "Python 3"
    },
    "language_info": {
      "name": "python"
    }
  },
  "cells": [
    {
      "cell_type": "markdown",
      "metadata": {
        "id": "view-in-github",
        "colab_type": "text"
      },
      "source": [
        "<a href=\"https://colab.research.google.com/github/sajal-code/Sentiment_Analysis_for_Software_Engineering/blob/main/Statistical_Sentiment_Classification_model.ipynb\" target=\"_parent\"><img src=\"https://colab.research.google.com/assets/colab-badge.svg\" alt=\"Open In Colab\"/></a>"
      ]
    },
    {
      "cell_type": "markdown",
      "metadata": {
        "id": "N5ahgrAEg25o"
      },
      "source": [
        "## Import Libraries"
      ]
    },
    {
      "cell_type": "code",
      "metadata": {
        "id": "8eBoVtVJfvIM"
      },
      "source": [
        "import pandas as pd\n",
        "import nltk\n",
        "import sklearn\n",
        "import numpy as np\n",
        "import re\n",
        "from nltk.corpus import stopwords\n",
        "from nltk.stem import WordNetLemmatizer\n",
        "from sklearn.feature_extraction.text import CountVectorizer\n",
        "from sklearn.feature_extraction.text import TfidfVectorizer\n",
        "from nltk import word_tokenize, sent_tokenize\n",
        "from sklearn.linear_model import LogisticRegression, LogisticRegressionCV\n",
        "from sklearn.model_selection import train_test_split\n",
        "from sklearn.svm import SVC\n",
        "from sklearn.naive_bayes import MultinomialNB\n",
        "import matplotlib.pyplot as plt\n",
        "import seaborn as sns\n",
        "from sklearn import metrics\n",
        "from sklearn.model_selection import cross_validate"
      ],
      "execution_count": 1,
      "outputs": []
    },
    {
      "cell_type": "markdown",
      "metadata": {
        "id": "FiUtKIb3hWbh"
      },
      "source": [
        "## Import Dataset"
      ]
    },
    {
      "cell_type": "code",
      "metadata": {
        "colab": {
          "base_uri": "https://localhost:8080/",
          "height": 218
        },
        "id": "KP3uCsjTha9p",
        "outputId": "576fc3f3-55fe-4387-d386-362148d024c1"
      },
      "source": [
        "from google.colab import drive \n",
        "import os\n",
        "drive.mount('/content/drive') \n",
        "os.chdir('/content/drive/My Drive/Thesis Dataset/CSV File') # EXAMPLE: /content/drive/My Drive/Sentiment_analysis_using_BERT \n",
        "df = pd.read_csv(\"Jira.csv\")\n",
        "df.head()"
      ],
      "execution_count": 3,
      "outputs": [
        {
          "output_type": "stream",
          "text": [
            "Drive already mounted at /content/drive; to attempt to forcibly remount, call drive.mount(\"/content/drive\", force_remount=True).\n"
          ],
          "name": "stdout"
        },
        {
          "output_type": "execute_result",
          "data": {
            "text/html": [
              "<div>\n",
              "<style scoped>\n",
              "    .dataframe tbody tr th:only-of-type {\n",
              "        vertical-align: middle;\n",
              "    }\n",
              "\n",
              "    .dataframe tbody tr th {\n",
              "        vertical-align: top;\n",
              "    }\n",
              "\n",
              "    .dataframe thead th {\n",
              "        text-align: right;\n",
              "    }\n",
              "</style>\n",
              "<table border=\"1\" class=\"dataframe\">\n",
              "  <thead>\n",
              "    <tr style=\"text-align: right;\">\n",
              "      <th></th>\n",
              "      <th>Comment</th>\n",
              "      <th>Sentiment</th>\n",
              "    </tr>\n",
              "  </thead>\n",
              "  <tbody>\n",
              "    <tr>\n",
              "      <th>0</th>\n",
              "      <td>Committed. Thanks Ning</td>\n",
              "      <td>Positive</td>\n",
              "    </tr>\n",
              "    <tr>\n",
              "      <th>1</th>\n",
              "      <td>Sorry I meant ZOOKEEPER-1239.</td>\n",
              "      <td>Negative</td>\n",
              "    </tr>\n",
              "    <tr>\n",
              "      <th>2</th>\n",
              "      <td>Hi  Ted  Matteo  Thanks for the review. The co...</td>\n",
              "      <td>Positive</td>\n",
              "    </tr>\n",
              "    <tr>\n",
              "      <th>3</th>\n",
              "      <td>Thanks to both of you  and to Deepesh for the ...</td>\n",
              "      <td>Positive</td>\n",
              "    </tr>\n",
              "    <tr>\n",
              "      <th>4</th>\n",
              "      <td>I just committed this. thanks steven!</td>\n",
              "      <td>Positive</td>\n",
              "    </tr>\n",
              "  </tbody>\n",
              "</table>\n",
              "</div>"
            ],
            "text/plain": [
              "                                             Comment Sentiment\n",
              "0                             Committed. Thanks Ning  Positive\n",
              "1                      Sorry I meant ZOOKEEPER-1239.  Negative\n",
              "2  Hi  Ted  Matteo  Thanks for the review. The co...  Positive\n",
              "3  Thanks to both of you  and to Deepesh for the ...  Positive\n",
              "4              I just committed this. thanks steven!  Positive"
            ]
          },
          "metadata": {
            "tags": []
          },
          "execution_count": 3
        }
      ]
    },
    {
      "cell_type": "markdown",
      "metadata": {
        "id": "iHGBpdp0hokN"
      },
      "source": [
        "## Descibe Dataset"
      ]
    },
    {
      "cell_type": "code",
      "metadata": {
        "colab": {
          "base_uri": "https://localhost:8080/",
          "height": 332
        },
        "id": "lxfdPi4ghno6",
        "outputId": "5ec88624-b257-4a5a-dd56-64a832cfdde8"
      },
      "source": [
        "sns.countplot(df.Sentiment)\n",
        "plt.xlabel('Sentiment score');"
      ],
      "execution_count": 4,
      "outputs": [
        {
          "output_type": "stream",
          "text": [
            "/usr/local/lib/python3.7/dist-packages/seaborn/_decorators.py:43: FutureWarning: Pass the following variable as a keyword arg: x. From version 0.12, the only valid positional argument will be `data`, and passing other arguments without an explicit keyword will result in an error or misinterpretation.\n",
            "  FutureWarning\n"
          ],
          "name": "stderr"
        },
        {
          "output_type": "display_data",
          "data": {
            "image/png": "[encoded data removed]",
            "text/plain": [
              "<Figure size 432x288 with 1 Axes>"
            ]
          },
          "metadata": {
            "tags": [],
            "needs_background": "light"
          }
        }
      ]
    },
    {
      "cell_type": "markdown",
      "metadata": {
        "id": "1KHi2ou9hxCj"
      },
      "source": [
        "## Cleaning Dataset"
      ]
    },
    {
      "cell_type": "code",
      "metadata": {
        "id": "3Qu2R7yOh1BR"
      },
      "source": [
        "def scrub_words(text):\n",
        "    \"\"\"Basic cleaning of texts.\"\"\"\n",
        "    \n",
        "    # remove html markup\n",
        "    text=re.sub(\"(<.*?>)\",\"\",text)\n",
        "    \n",
        "    #remove whitespace\n",
        "    text=text.strip()\n",
        "    return text\n",
        "\n",
        "df['Cleaned_Comment']=[scrub_words(w) for w in df.Comment]"
      ],
      "execution_count": 5,
      "outputs": []
    },
    {
      "cell_type": "markdown",
      "metadata": {
        "id": "wt3SFle8h6CV"
      },
      "source": [
        "## Removing Stop Words"
      ]
    },
    {
      "cell_type": "code",
      "metadata": {
        "colab": {
          "base_uri": "https://localhost:8080/"
        },
        "id": "LrkcehhOh-De",
        "outputId": "885fbf0b-ff9d-42c3-ee4a-a0f076e99f88"
      },
      "source": [
        "# Removing stop words (Stop words are a set of commonly used words in any language)\n",
        "#For example, in English, “the”, “is” and “and”, would easily qualify as stop words\n",
        "\n",
        "nltk.download('stopwords')\n",
        "stop_words = list(set(stopwords.words('english')))"
      ],
      "execution_count": 6,
      "outputs": [
        {
          "output_type": "stream",
          "text": [
            "[nltk_data] Downloading package stopwords to /root/nltk_data...\n",
            "[nltk_data]   Unzipping corpora/stopwords.zip.\n"
          ],
          "name": "stdout"
        }
      ]
    },
    {
      "cell_type": "code",
      "metadata": {
        "colab": {
          "base_uri": "https://localhost:8080/"
        },
        "id": "xkiNdwfEiCjy",
        "outputId": "ee2544b6-1bc0-49e5-e882-83c9d95a8111"
      },
      "source": [
        "nltk.download('punkt')\n",
        "nltk.download('wordnet')"
      ],
      "execution_count": 7,
      "outputs": [
        {
          "output_type": "stream",
          "text": [
            "[nltk_data] Downloading package punkt to /root/nltk_data...\n",
            "[nltk_data]   Unzipping tokenizers/punkt.zip.\n",
            "[nltk_data] Downloading package wordnet to /root/nltk_data...\n",
            "[nltk_data]   Unzipping corpora/wordnet.zip.\n"
          ],
          "name": "stdout"
        },
        {
          "output_type": "execute_result",
          "data": {
            "text/plain": [
              "True"
            ]
          },
          "metadata": {
            "tags": []
          },
          "execution_count": 7
        }
      ]
    },
    {
      "cell_type": "markdown",
      "metadata": {
        "id": "jpu6BdVMiNsU"
      },
      "source": [
        "## Test Train Split"
      ]
    },
    {
      "cell_type": "code",
      "metadata": {
        "id": "dO4NFuCDiLJw"
      },
      "source": [
        "X = df.Cleaned_Comment\n",
        "y = df.Sentiment\n",
        "\n",
        "X_train,X_test,y_train,y_test=train_test_split(X,y,test_size=0.20,random_state=0)"
      ],
      "execution_count": 8,
      "outputs": []
    },
    {
      "cell_type": "markdown",
      "metadata": {
        "id": "N-4ZKBb5iVC9"
      },
      "source": [
        "## Defining Lemmatization Function"
      ]
    },
    {
      "cell_type": "code",
      "metadata": {
        "id": "-RE8-qWbibWn"
      },
      "source": [
        "# Defining lemmatizing function\n",
        "\n",
        "def lemma_func(text):\n",
        "    lemmatizer = WordNetLemmatizer()\n",
        "    return [' '.join([lemmatizer.lemmatize(word) for word in Cleaned_Comment.split()]) for Cleaned_Comment in text]"
      ],
      "execution_count": 9,
      "outputs": []
    },
    {
      "cell_type": "code",
      "metadata": {
        "id": "KUm1XlBIige-"
      },
      "source": [
        "# Corpus: \n",
        "\n",
        "corpus = X_train.values.tolist()"
      ],
      "execution_count": 10,
      "outputs": []
    },
    {
      "cell_type": "markdown",
      "metadata": {
        "id": "nNRc0_ydiih8"
      },
      "source": [
        "## Vectorization Function"
      ]
    },
    {
      "cell_type": "code",
      "metadata": {
        "id": "mYEmGIQkiock"
      },
      "source": [
        "vectorizer = TfidfVectorizer(input='content',\n",
        "                              analyzer='word',\n",
        "                              token_pattern='(?u)\\\\\\\\b\\\\\\\\w\\\\\\\\w+\\\\\\\\b',   #removing non-alphabets\n",
        "                              tokenizer=lemma_func,    #lemmatisation of words\n",
        "                              ngram_range=(1,2),   #unigrams and bigrams considered only\n",
        "                              min_df=100,  #tokens occuring in <500 documents neglected\n",
        "                              max_df = 0.95,  #tokens occuring in >95% documents neglected\n",
        "                              max_features=50000,\n",
        "                              stop_words=stop_words, #stopwords removed\n",
        "                              lowercase=True  #converting all tokens to lowercase\n",
        "                              )"
      ],
      "execution_count": 11,
      "outputs": []
    },
    {
      "cell_type": "code",
      "metadata": {
        "colab": {
          "base_uri": "https://localhost:8080/"
        },
        "id": "z3ssas_EisWv",
        "outputId": "b76f878a-3d62-4944-d10b-9eaf1cec624b"
      },
      "source": [
        "data_train = vectorizer.fit_transform((corpus))\n",
        "\n",
        "tar_lab = y_train"
      ],
      "execution_count": 12,
      "outputs": [
        {
          "output_type": "stream",
          "text": [
            "/usr/local/lib/python3.7/dist-packages/sklearn/feature_extraction/text.py:385: UserWarning: Your stop_words may be inconsistent with your preprocessing. Tokenizing the stop words generated tokens [\"'\", 'b', 'c', 'e', 'f', 'g', 'h', 'j', 'l', 'n', 'p', 'r', 'u', 'v', 'w'] not in stop_words.\n",
            "  'stop_words.' % sorted(inconsistent))\n"
          ],
          "name": "stderr"
        }
      ]
    },
    {
      "cell_type": "markdown",
      "metadata": {
        "id": "3V_SJFTdjA2f"
      },
      "source": [
        "## Building the Logistic Regression Model"
      ]
    },
    {
      "cell_type": "code",
      "metadata": {
        "colab": {
          "base_uri": "https://localhost:8080/",
          "height": 628
        },
        "id": "eLbg2ZbwjFUS",
        "outputId": "fd55ca48-7397-44c9-c1c9-02215314cb2e"
      },
      "source": [
        "lr = LogisticRegressionCV(random_state=0, solver='liblinear', multi_class='ovr', cv=10, verbose=1)\n",
        "lr_model = lr.fit(data_train, tar_lab)\n",
        "\n",
        "test_corpus = X_test.values.tolist()\n",
        "test = vectorizer.transform(test_corpus)\n",
        "\n",
        "y_pred=lr_model.predict(test)\n",
        "\n",
        "cnf_matrix = metrics.confusion_matrix(y_test, y_pred)\n",
        "\n",
        "class_names=[0,1] # name  of classes\n",
        "fig, ax = plt.subplots()\n",
        "tick_marks = np.arange(len(class_names))\n",
        "plt.xticks(tick_marks, class_names)\n",
        "plt.yticks(tick_marks, class_names)\n",
        "# create heatmap\n",
        "sns.heatmap(pd.DataFrame(cnf_matrix), annot=True, cmap=\"YlGnBu\" ,fmt='g')\n",
        "ax.xaxis.set_label_position(\"top\")\n",
        "plt.tight_layout()\n",
        "plt.title('Confusion matrix', y=1.1)\n",
        "plt.ylabel('Actual label')\n",
        "plt.xlabel('Predicted label')\n",
        "\n",
        "print ('Accuracy:', metrics.accuracy_score(y_test, y_pred))\n",
        "print ('F1 score:', metrics.f1_score(y_test, y_pred,average='weighted'))\n",
        "print ('Recall:', metrics.recall_score(y_test, y_pred,\n",
        "                              average='weighted'))\n",
        "print ('Precision:', metrics.precision_score(y_test, y_pred,\n",
        "                                    average='weighted'))\n",
        "\n",
        "from sklearn.metrics import classification_report\n",
        "target_names = ['Class 0', 'Class 1', 'Class 2']\n",
        "print(classification_report(y_test, y_pred, target_names=target_names))"
      ],
      "execution_count": 13,
      "outputs": [
        {
          "output_type": "stream",
          "text": [
            "[Parallel(n_jobs=1)]: Using backend SequentialBackend with 1 concurrent workers.\n"
          ],
          "name": "stderr"
        },
        {
          "output_type": "stream",
          "text": [
            "[LibLinear][LibLinear][LibLinear][LibLinear][LibLinear][LibLinear][LibLinear][LibLinear][LibLinear][LibLinear][LibLinear][LibLinear][LibLinear][LibLinear][LibLinear][LibLinear][LibLinear][LibLinear][LibLinear][LibLinear][LibLinear][LibLinear][LibLinear][LibLinear][LibLinear][LibLinear][LibLinear][LibLinear][LibLinear][LibLinear][LibLinear][LibLinear][LibLinear][LibLinear][LibLinear][LibLinear][LibLinear][LibLinear][LibLinear][LibLinear][LibLinear][LibLinear][LibLinear][LibLinear][LibLinear][LibLinear][LibLinear][LibLinear][LibLinear][LibLinear][LibLinear][LibLinear][LibLinear][LibLinear][LibLinear][LibLinear][LibLinear][LibLinear][LibLinear][LibLinear][LibLinear][LibLinear][LibLinear][LibLinear][LibLinear][LibLinear][LibLinear][LibLinear][LibLinear][LibLinear][LibLinear][LibLinear][LibLinear][LibLinear][LibLinear][LibLinear][LibLinear][LibLinear][LibLinear][LibLinear][LibLinear][LibLinear][LibLinear][LibLinear][LibLinear][LibLinear][LibLinear][LibLinear][LibLinear][LibLinear][LibLinear][LibLinear][LibLinear][LibLinear][LibLinear][LibLinear][LibLinear][LibLinear][LibLinear][LibLinear][LibLinear][LibLinear][LibLinear][LibLinear][LibLinear][LibLinear][LibLinear][LibLinear][LibLinear][LibLinear][LibLinear][LibLinear][LibLinear][LibLinear][LibLinear][LibLinear][LibLinear][LibLinear][LibLinear][LibLinear][LibLinear][LibLinear][LibLinear][LibLinear][LibLinear][LibLinear][LibLinear][LibLinear][LibLinear][LibLinear][LibLinear][LibLinear][LibLinear][LibLinear][LibLinear][LibLinear][LibLinear][LibLinear][LibLinear][LibLinear][LibLinear][LibLinear][LibLinear][LibLinear][LibLinear][LibLinear][LibLinear][LibLinear][LibLinear][LibLinear][LibLinear][LibLinear][LibLinear][LibLinear][LibLinear][LibLinear][LibLinear][LibLinear][LibLinear][LibLinear][LibLinear][LibLinear][LibLinear][LibLinear][LibLinear][LibLinear][LibLinear][LibLinear][LibLinear][LibLinear][LibLinear][LibLinear][LibLinear][LibLinear][LibLinear][LibLinear][LibLinear][LibLinear][LibLinear][LibLinear][LibLinear][LibLinear][LibLinear][LibLinear][LibLinear][LibLinear][LibLinear][LibLinear][LibLinear][LibLinear][LibLinear][LibLinear][LibLinear][LibLinear][LibLinear][LibLinear][LibLinear][LibLinear][LibLinear][LibLinear][LibLinear][LibLinear][LibLinear][LibLinear][LibLinear][LibLinear][LibLinear][LibLinear][LibLinear][LibLinear][LibLinear][LibLinear][LibLinear][LibLinear][LibLinear][LibLinear][LibLinear][LibLinear][LibLinear][LibLinear][LibLinear][LibLinear][LibLinear][LibLinear][LibLinear][LibLinear][LibLinear][LibLinear][LibLinear][LibLinear][LibLinear][LibLinear][LibLinear][LibLinear][LibLinear][LibLinear][LibLinear][LibLinear][LibLinear][LibLinear][LibLinear][LibLinear][LibLinear][LibLinear][LibLinear][LibLinear][LibLinear][LibLinear][LibLinear][LibLinear][LibLinear][LibLinear][LibLinear][LibLinear][LibLinear][LibLinear][LibLinear][LibLinear][LibLinear][LibLinear][LibLinear][LibLinear][LibLinear][LibLinear][LibLinear][LibLinear][LibLinear][LibLinear][LibLinear][LibLinear][LibLinear][LibLinear][LibLinear][LibLinear][LibLinear][LibLinear][LibLinear][LibLinear][LibLinear][LibLinear][LibLinear][LibLinear][LibLinear][LibLinear][LibLinear][LibLinear][LibLinear][LibLinear][LibLinear][LibLinear][LibLinear][LibLinear][LibLinear][LibLinear][LibLinear][LibLinear][LibLinear][LibLinear][LibLinear][LibLinear]"
          ],
          "name": "stdout"
        },
        {
          "output_type": "stream",
          "text": [
            "[Parallel(n_jobs=1)]: Done  30 out of  30 | elapsed:    5.6s finished\n"
          ],
          "name": "stderr"
        },
        {
          "output_type": "stream",
          "text": [
            "Accuracy: 0.77431906614786\n",
            "F1 score: 0.776199706528777\n",
            "Recall: 0.77431906614786\n",
            "Precision: 0.7815236052857648\n",
            "              precision    recall  f1-score   support\n",
            "\n",
            "     Class 0       0.76      0.70      0.73       166\n",
            "     Class 1       0.66      0.77      0.71       137\n",
            "     Class 2       0.88      0.83      0.86       211\n",
            "\n",
            "    accuracy                           0.77       514\n",
            "   macro avg       0.77      0.77      0.76       514\n",
            "weighted avg       0.78      0.77      0.78       514\n",
            "\n"
          ],
          "name": "stdout"
        },
        {
          "output_type": "display_data",
          "data": {
            "image/png": "[encoded data removed]",
            "text/plain": [
              "<Figure size 432x288 with 2 Axes>"
            ]
          },
          "metadata": {
            "tags": [],
            "needs_background": "light"
          }
        }
      ]
    },
    {
      "cell_type": "markdown",
      "metadata": {
        "id": "1rcOlu5CjO73"
      },
      "source": [
        "## Building the SVM Model"
      ]
    },
    {
      "cell_type": "code",
      "metadata": {
        "colab": {
          "base_uri": "https://localhost:8080/",
          "height": 558
        },
        "id": "XzOpeGIMjVst",
        "outputId": "4e13abdb-aba5-4f9a-8cb9-ce1f7d80500e"
      },
      "source": [
        "svm_new = SVC()\n",
        "svm_model = svm_new.fit(data_train, tar_lab)\n",
        "\n",
        "test_corpus = X_test.values.tolist()\n",
        "test = vectorizer.transform(test_corpus)\n",
        "\n",
        "y_pred=svm_model.predict(test)\n",
        "\n",
        "cnf_matrix = metrics.confusion_matrix(y_test, y_pred)\n",
        "\n",
        "class_names=[0,1] # name  of classes\n",
        "fig, ax = plt.subplots()\n",
        "tick_marks = np.arange(len(class_names))\n",
        "plt.xticks(tick_marks, class_names)\n",
        "plt.yticks(tick_marks, class_names)\n",
        "# create heatmap\n",
        "sns.heatmap(pd.DataFrame(cnf_matrix), annot=True, cmap=\"YlGnBu\" ,fmt='g')\n",
        "ax.xaxis.set_label_position(\"top\")\n",
        "plt.tight_layout()\n",
        "plt.title('Confusion matrix', y=1.1)\n",
        "plt.ylabel('Actual label')\n",
        "plt.xlabel('Predicted label')\n",
        "\n",
        "print ('Accuracy:', metrics.accuracy_score(y_test, y_pred))\n",
        "print ('F1 score:', metrics.f1_score(y_test, y_pred,average='weighted'))\n",
        "print ('Recall:', metrics.recall_score(y_test, y_pred,\n",
        "                              average='weighted'))\n",
        "print ('Precision:', metrics.precision_score(y_test, y_pred,\n",
        "                                    average='weighted'))\n",
        "\n",
        "from sklearn.metrics import classification_report\n",
        "target_names = ['Class 0', 'Class 1', 'Class 2']\n",
        "print(classification_report(y_test, y_pred, target_names=target_names))"
      ],
      "execution_count": 15,
      "outputs": [
        {
          "output_type": "stream",
          "text": [
            "Accuracy: 0.7898832684824902\n",
            "F1 score: 0.7937948715388227\n",
            "Recall: 0.7898832684824902\n",
            "Precision: 0.8055272538697787\n",
            "              precision    recall  f1-score   support\n",
            "\n",
            "     Class 0       0.77      0.74      0.76       166\n",
            "     Class 1       0.65      0.81      0.72       137\n",
            "     Class 2       0.93      0.82      0.87       211\n",
            "\n",
            "    accuracy                           0.79       514\n",
            "   macro avg       0.79      0.79      0.78       514\n",
            "weighted avg       0.81      0.79      0.79       514\n",
            "\n"
          ],
          "name": "stdout"
        },
        {
          "output_type": "display_data",
          "data": {
            "image/png": "[encoded data removed]",
            "text/plain": [
              "<Figure size 432x288 with 2 Axes>"
            ]
          },
          "metadata": {
            "tags": [],
            "needs_background": "light"
          }
        }
      ]
    },
    {
      "cell_type": "markdown",
      "metadata": {
        "id": "7sHp9Rc8jis0"
      },
      "source": [
        "## Building Naive Bayes Model"
      ]
    },
    {
      "cell_type": "code",
      "metadata": {
        "colab": {
          "base_uri": "https://localhost:8080/",
          "height": 558
        },
        "id": "vFXZ0X5yjnjb",
        "outputId": "c04fe547-0f6e-4c23-e9f6-9256c8b2be5d"
      },
      "source": [
        "nb = MultinomialNB()\n",
        "nb_model = nb.fit(data_train, tar_lab)\n",
        "\n",
        "test_corpus = X_test.values.tolist()\n",
        "test = vectorizer.transform(test_corpus)\n",
        "\n",
        "y_pred=nb_model.predict(test)\n",
        "\n",
        "cnf_matrix = metrics.confusion_matrix(y_test, y_pred)\n",
        "\n",
        "class_names=[0,1] # name  of classes\n",
        "fig, ax = plt.subplots()\n",
        "tick_marks = np.arange(len(class_names))\n",
        "plt.xticks(tick_marks, class_names)\n",
        "plt.yticks(tick_marks, class_names)\n",
        "# create heatmap\n",
        "sns.heatmap(pd.DataFrame(cnf_matrix), annot=True, cmap=\"YlGnBu\" ,fmt='g')\n",
        "ax.xaxis.set_label_position(\"top\")\n",
        "plt.tight_layout()\n",
        "plt.title('Confusion matrix', y=1.1)\n",
        "plt.ylabel('Actual label')\n",
        "plt.xlabel('Predicted label')\n",
        "\n",
        "print ('Accuracy:', metrics.accuracy_score(y_test, y_pred))\n",
        "print ('F1 score:', metrics.f1_score(y_test, y_pred,average='weighted'))\n",
        "print ('Recall:', metrics.recall_score(y_test, y_pred,\n",
        "                              average='weighted'))\n",
        "print ('Precision:', metrics.precision_score(y_test, y_pred,\n",
        "                                    average='weighted'))\n",
        "\n",
        "from sklearn.metrics import classification_report\n",
        "target_names = ['Class 0', 'Class 1', 'Class 2']\n",
        "print(classification_report(y_test, y_pred, target_names=target_names))"
      ],
      "execution_count": 16,
      "outputs": [
        {
          "output_type": "stream",
          "text": [
            "Accuracy: 0.708171206225681\n",
            "F1 score: 0.7062324558206582\n",
            "Recall: 0.708171206225681\n",
            "Precision: 0.708016762442142\n",
            "              precision    recall  f1-score   support\n",
            "\n",
            "     Class 0       0.64      0.72      0.68       166\n",
            "     Class 1       0.64      0.54      0.58       137\n",
            "     Class 2       0.81      0.81      0.81       211\n",
            "\n",
            "    accuracy                           0.71       514\n",
            "   macro avg       0.70      0.69      0.69       514\n",
            "weighted avg       0.71      0.71      0.71       514\n",
            "\n"
          ],
          "name": "stdout"
        },
        {
          "output_type": "display_data",
          "data": {
            "image/png": "[encoded data removed]",
            "text/plain": [
              "<Figure size 432x288 with 2 Axes>"
            ]
          },
          "metadata": {
            "tags": [],
            "needs_background": "light"
          }
        }
      ]
    }
  ]
}
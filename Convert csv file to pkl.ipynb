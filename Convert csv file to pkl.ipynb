{
 "cells": [
  {
   "cell_type": "code",
   "execution_count": null,
   "id": "northern-thomson",
   "metadata": {},
   "outputs": [],
   "source": [
    "# Convert csv file to pkl\n",
    "import pickle"
   ]
  },
  {
   "cell_type": "code",
   "execution_count": null,
   "id": "solar-automation",
   "metadata": {},
   "outputs": [],
   "source": [
    "df = pd.read_csv(\"C:/Users/PC Klinik/Documents/Study Folder/Thesis Final/Data/Training_Dataset.xlsx\")  # File Path"
   ]
  },
  {
   "cell_type": "code",
   "execution_count": null,
   "id": "short-citizen",
   "metadata": {},
   "outputs": [],
   "source": [
    "pickle.dump( df, open( \"data/train.pkl\" , 'wb' ) )"
   ]
  }
 ],
 "metadata": {
  "kernelspec": {
   "display_name": "Python 3",
   "language": "python",
   "name": "python3"
  },
  "language_info": {
   "codemirror_mode": {
    "name": "ipython",
    "version": 3
   },
   "file_extension": ".py",
   "mimetype": "text/x-python",
   "name": "python",
   "nbconvert_exporter": "python",
   "pygments_lexer": "ipython3",
   "version": "3.9.1"
  }
 },
 "nbformat": 4,
 "nbformat_minor": 5
}
